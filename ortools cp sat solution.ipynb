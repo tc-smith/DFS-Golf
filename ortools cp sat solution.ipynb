{
 "cells": [
  {
   "cell_type": "markdown",
   "metadata": {},
   "source": [
    "\n",
    "## Optimization notebook for ETR's Draftkings golf projections.  This notebook uses Google ortools and the CP-SAT solver.  \n",
    "\n",
    "**NOTE: This notebook is for example purposes only and has no guarantees for accuracy.  Use at your own risk.** \n"
   ]
  },
  {
   "cell_type": "markdown",
   "metadata": {},
   "source": [
    "### Contents\n",
    "1. [Overview](#overview)\n",
    "2. [Imports](#imports)\n",
    "3. [Data Loading and Cleaning](#data_loading)\n",
    "4. [Solver Setup and Results](#solver)"
   ]
  },
  {
   "cell_type": "markdown",
   "metadata": {},
   "source": [
    "<a id='overview'></a>\n",
    "## 1. Overview\n",
    "\n",
    "This notebook solves the n-dimensional 0-1 knapsack problem of roster selection for DFS golf.  A roster of 6 players with a maximum cumulative salary of $50000 is allowed.  This notebook uses Establish The Run's DK Points projections to find the optimal roster.  The projections are available for download through ETR's golf subscription.\n",
    "\n",
    "The following is the constraint problem setup:\n",
    "\n",
    "maximize $\\sum_{i=1}^n v_i x_i$\n",
    "\n",
    "subject to \n",
    "\n",
    "$\\sum_{i=1}^n w_i x_i <= 50000$, \n",
    "\n",
    "$\\sum_{i=1}^n x_i == 6$,\n",
    "\n",
    "$x_i \\in \\{0, 1\\}$\n",
    "\n",
    "Here, $x_i$ is a 0-1 variable representing whether player i is included in the roster.  $v_i$ represents ETR's points projection for player i.  $w_i$ represents the DK salary for player i.\n"
   ]
  },
  {
   "cell_type": "markdown",
   "metadata": {},
   "source": [
    "<a id='imports'></a>\n",
    "## 2. Imports\n",
    "#### This python notebook uses the pandas and ortools packages."
   ]
  },
  {
   "cell_type": "code",
   "execution_count": 1,
   "metadata": {},
   "outputs": [],
   "source": [
    "import numpy as np\n",
    "import pandas as pd\n",
    "from ortools.sat.python import cp_model"
   ]
  },
  {
   "cell_type": "markdown",
   "metadata": {},
   "source": [
    "<a id='data_loading'></a>\n",
    "## 3. Data Loading and Cleaning\n",
    "#### Load ETR's csv download into a pandas dataframe.  Change the folder location if the csv is not in the same folder.  Change the title of the csv to match the current weeks projections."
   ]
  },
  {
   "cell_type": "code",
   "execution_count": 2,
   "metadata": {},
   "outputs": [
    {
     "data": {
      "text/html": [
       "<div>\n",
       "<style scoped>\n",
       "    .dataframe tbody tr th:only-of-type {\n",
       "        vertical-align: middle;\n",
       "    }\n",
       "\n",
       "    .dataframe tbody tr th {\n",
       "        vertical-align: top;\n",
       "    }\n",
       "\n",
       "    .dataframe thead th {\n",
       "        text-align: right;\n",
       "    }\n",
       "</style>\n",
       "<table border=\"1\" class=\"dataframe\">\n",
       "  <thead>\n",
       "    <tr style=\"text-align: right;\">\n",
       "      <th></th>\n",
       "      <th>Golfer</th>\n",
       "      <th>Rd 1 Tee Time</th>\n",
       "      <th>Rd 2 Tee Time</th>\n",
       "      <th>DK Salary</th>\n",
       "      <th>DK Points</th>\n",
       "      <th>DK Value</th>\n",
       "      <th>DK Ownership</th>\n",
       "      <th>DK Ceiling</th>\n",
       "      <th>Make Cut Odds</th>\n",
       "      <th>Volatility</th>\n",
       "      <th>Slate Name</th>\n",
       "      <th>Slate ID</th>\n",
       "    </tr>\n",
       "  </thead>\n",
       "  <tbody>\n",
       "    <tr>\n",
       "      <th>0</th>\n",
       "      <td>Scottie Scheffler</td>\n",
       "      <td>13:06</td>\n",
       "      <td>7:55</td>\n",
       "      <td>10900.0</td>\n",
       "      <td>93.8</td>\n",
       "      <td>8.0</td>\n",
       "      <td>25.6%</td>\n",
       "      <td>134.7</td>\n",
       "      <td>80.7%</td>\n",
       "      <td>1.7</td>\n",
       "      <td>Scottie Scheffler</td>\n",
       "      <td>22529105.0</td>\n",
       "    </tr>\n",
       "    <tr>\n",
       "      <th>1</th>\n",
       "      <td>Justin Thomas</td>\n",
       "      <td>12:55</td>\n",
       "      <td>7:44</td>\n",
       "      <td>10600.0</td>\n",
       "      <td>91.1</td>\n",
       "      <td>6.1</td>\n",
       "      <td>24.2%</td>\n",
       "      <td>132.1</td>\n",
       "      <td>79.3%</td>\n",
       "      <td>2.1</td>\n",
       "      <td>Justin Thomas</td>\n",
       "      <td>22529106.0</td>\n",
       "    </tr>\n",
       "    <tr>\n",
       "      <th>2</th>\n",
       "      <td>Xander Schauffele</td>\n",
       "      <td>7:55</td>\n",
       "      <td>13:06</td>\n",
       "      <td>9700.0</td>\n",
       "      <td>85.0</td>\n",
       "      <td>5.6</td>\n",
       "      <td>18.4%</td>\n",
       "      <td>126.8</td>\n",
       "      <td>75.2%</td>\n",
       "      <td>3.3</td>\n",
       "      <td>Xander Schauffele</td>\n",
       "      <td>22529110.0</td>\n",
       "    </tr>\n",
       "    <tr>\n",
       "      <th>3</th>\n",
       "      <td>Sam Burns</td>\n",
       "      <td>12:55</td>\n",
       "      <td>7:44</td>\n",
       "      <td>9500.0</td>\n",
       "      <td>84.0</td>\n",
       "      <td>5.8</td>\n",
       "      <td>22.6%</td>\n",
       "      <td>127.6</td>\n",
       "      <td>72.9%</td>\n",
       "      <td>4.0</td>\n",
       "      <td>Sam Burns</td>\n",
       "      <td>22529111.0</td>\n",
       "    </tr>\n",
       "    <tr>\n",
       "      <th>4</th>\n",
       "      <td>Dustin Johnson</td>\n",
       "      <td>7:55</td>\n",
       "      <td>13:06</td>\n",
       "      <td>10200.0</td>\n",
       "      <td>82.0</td>\n",
       "      <td>3.1</td>\n",
       "      <td>11.3%</td>\n",
       "      <td>126.3</td>\n",
       "      <td>70.8%</td>\n",
       "      <td>4.7</td>\n",
       "      <td>Dustin Johnson</td>\n",
       "      <td>22529107.0</td>\n",
       "    </tr>\n",
       "  </tbody>\n",
       "</table>\n",
       "</div>"
      ],
      "text/plain": [
       "              Golfer Rd 1 Tee Time Rd 2 Tee Time  DK Salary  DK Points  \\\n",
       "0  Scottie Scheffler         13:06          7:55    10900.0       93.8   \n",
       "1      Justin Thomas         12:55          7:44    10600.0       91.1   \n",
       "2  Xander Schauffele          7:55         13:06     9700.0       85.0   \n",
       "3          Sam Burns         12:55          7:44     9500.0       84.0   \n",
       "4     Dustin Johnson          7:55         13:06    10200.0       82.0   \n",
       "\n",
       "   DK Value DK Ownership  DK Ceiling Make Cut Odds  Volatility  \\\n",
       "0       8.0        25.6%       134.7         80.7%         1.7   \n",
       "1       6.1        24.2%       132.1         79.3%         2.1   \n",
       "2       5.6        18.4%       126.8         75.2%         3.3   \n",
       "3       5.8        22.6%       127.6         72.9%         4.0   \n",
       "4       3.1        11.3%       126.3         70.8%         4.7   \n",
       "\n",
       "          Slate Name    Slate ID  \n",
       "0  Scottie Scheffler  22529105.0  \n",
       "1      Justin Thomas  22529106.0  \n",
       "2  Xander Schauffele  22529110.0  \n",
       "3          Sam Burns  22529111.0  \n",
       "4     Dustin Johnson  22529107.0  "
      ]
     },
     "execution_count": 2,
     "metadata": {},
     "output_type": "execute_result"
    }
   ],
   "source": [
    "current_folder = \"./\"\n",
    "file_path = current_folder + 'ETR DraftKings Golf Projections5_11_22.csv'\n",
    "df= pd.read_csv(file_path)\n",
    "df.head()"
   ]
  },
  {
   "cell_type": "markdown",
   "metadata": {},
   "source": [
    "#### Some minimal data cleanup.  May or may not delete players in the field depending on the csv accuracy."
   ]
  },
  {
   "cell_type": "code",
   "execution_count": 3,
   "metadata": {},
   "outputs": [
    {
     "name": "stdout",
     "output_type": "stream",
     "text": [
      "Players being deleted due to lack of some data. \n",
      "               Golfer Rd 1 Tee Time Rd 2 Tee Time  DK Salary  DK Points  \\\n",
      "105   Chase Seiffert         13:28          8:18        NaN       54.0   \n",
      "118  Satoshi Kodaira          7:33         12:43        NaN       52.5   \n",
      "143        Jim Knous         12:21          7:12        NaN       45.4   \n",
      "\n",
      "     DK Value DK Ownership  DK Ceiling Make Cut Odds  Volatility  \\\n",
      "105       NaN         0.5%        94.6         41.3%         9.2   \n",
      "118       NaN         0.2%        92.9         39.1%         9.4   \n",
      "143       NaN         0.0%        84.1         28.9%         9.1   \n",
      "\n",
      "          Slate Name  Slate ID  \n",
      "105   Chase Seiffert       NaN  \n",
      "118  Satoshi Kodaira       NaN  \n",
      "143        Jim Knous       NaN  \n"
     ]
    }
   ],
   "source": [
    "print(\"Players being deleted due to lack of some data. \\n\", df[df.isna().any(axis=1)])\n",
    "df = df.dropna()"
   ]
  },
  {
   "cell_type": "markdown",
   "metadata": {},
   "source": [
    "#### Load data into lists for the solver.  Change data to integers and adjust data scale."
   ]
  },
  {
   "cell_type": "code",
   "execution_count": 4,
   "metadata": {},
   "outputs": [
    {
     "data": {
      "text/html": [
       "<div>\n",
       "<style scoped>\n",
       "    .dataframe tbody tr th:only-of-type {\n",
       "        vertical-align: middle;\n",
       "    }\n",
       "\n",
       "    .dataframe tbody tr th {\n",
       "        vertical-align: top;\n",
       "    }\n",
       "\n",
       "    .dataframe thead th {\n",
       "        text-align: right;\n",
       "    }\n",
       "</style>\n",
       "<table border=\"1\" class=\"dataframe\">\n",
       "  <thead>\n",
       "    <tr style=\"text-align: right;\">\n",
       "      <th></th>\n",
       "      <th>DK Salary</th>\n",
       "      <th>DK Points</th>\n",
       "      <th>DK Value</th>\n",
       "      <th>DK Ceiling</th>\n",
       "      <th>Volatility</th>\n",
       "      <th>Slate ID</th>\n",
       "      <th>projected_ownership</th>\n",
       "      <th>cut_odds</th>\n",
       "    </tr>\n",
       "  </thead>\n",
       "  <tbody>\n",
       "    <tr>\n",
       "      <th>count</th>\n",
       "      <td>152.000000</td>\n",
       "      <td>152.000000</td>\n",
       "      <td>152.000000</td>\n",
       "      <td>152.000000</td>\n",
       "      <td>152.000000</td>\n",
       "      <td>1.520000e+02</td>\n",
       "      <td>152.000000</td>\n",
       "      <td>152.000000</td>\n",
       "    </tr>\n",
       "    <tr>\n",
       "      <th>mean</th>\n",
       "      <td>6987.500000</td>\n",
       "      <td>59.040789</td>\n",
       "      <td>-0.673684</td>\n",
       "      <td>98.502632</td>\n",
       "      <td>7.720395</td>\n",
       "      <td>2.252983e+07</td>\n",
       "      <td>4.087500</td>\n",
       "      <td>46.816447</td>\n",
       "    </tr>\n",
       "    <tr>\n",
       "      <th>std</th>\n",
       "      <td>990.772827</td>\n",
       "      <td>10.955082</td>\n",
       "      <td>2.081032</td>\n",
       "      <td>13.513074</td>\n",
       "      <td>1.649176</td>\n",
       "      <td>3.516633e+03</td>\n",
       "      <td>5.789341</td>\n",
       "      <td>13.663033</td>\n",
       "    </tr>\n",
       "    <tr>\n",
       "      <th>min</th>\n",
       "      <td>6000.000000</td>\n",
       "      <td>25.800000</td>\n",
       "      <td>-2.000000</td>\n",
       "      <td>33.500000</td>\n",
       "      <td>1.000000</td>\n",
       "      <td>2.252910e+07</td>\n",
       "      <td>0.100000</td>\n",
       "      <td>2.200000</td>\n",
       "    </tr>\n",
       "    <tr>\n",
       "      <th>25%</th>\n",
       "      <td>6300.000000</td>\n",
       "      <td>52.800000</td>\n",
       "      <td>-2.000000</td>\n",
       "      <td>92.850000</td>\n",
       "      <td>6.975000</td>\n",
       "      <td>2.252914e+07</td>\n",
       "      <td>0.300000</td>\n",
       "      <td>39.525000</td>\n",
       "    </tr>\n",
       "    <tr>\n",
       "      <th>50%</th>\n",
       "      <td>6700.000000</td>\n",
       "      <td>58.400000</td>\n",
       "      <td>-1.800000</td>\n",
       "      <td>98.550000</td>\n",
       "      <td>8.150000</td>\n",
       "      <td>2.252918e+07</td>\n",
       "      <td>1.250000</td>\n",
       "      <td>46.700000</td>\n",
       "    </tr>\n",
       "    <tr>\n",
       "      <th>75%</th>\n",
       "      <td>7300.000000</td>\n",
       "      <td>65.425000</td>\n",
       "      <td>0.000000</td>\n",
       "      <td>105.250000</td>\n",
       "      <td>8.900000</td>\n",
       "      <td>2.252922e+07</td>\n",
       "      <td>5.325000</td>\n",
       "      <td>56.025000</td>\n",
       "    </tr>\n",
       "    <tr>\n",
       "      <th>max</th>\n",
       "      <td>10900.000000</td>\n",
       "      <td>93.800000</td>\n",
       "      <td>8.000000</td>\n",
       "      <td>134.700000</td>\n",
       "      <td>10.000000</td>\n",
       "      <td>2.254883e+07</td>\n",
       "      <td>25.600000</td>\n",
       "      <td>80.700000</td>\n",
       "    </tr>\n",
       "  </tbody>\n",
       "</table>\n",
       "</div>"
      ],
      "text/plain": [
       "          DK Salary   DK Points    DK Value  DK Ceiling  Volatility  \\\n",
       "count    152.000000  152.000000  152.000000  152.000000  152.000000   \n",
       "mean    6987.500000   59.040789   -0.673684   98.502632    7.720395   \n",
       "std      990.772827   10.955082    2.081032   13.513074    1.649176   \n",
       "min     6000.000000   25.800000   -2.000000   33.500000    1.000000   \n",
       "25%     6300.000000   52.800000   -2.000000   92.850000    6.975000   \n",
       "50%     6700.000000   58.400000   -1.800000   98.550000    8.150000   \n",
       "75%     7300.000000   65.425000    0.000000  105.250000    8.900000   \n",
       "max    10900.000000   93.800000    8.000000  134.700000   10.000000   \n",
       "\n",
       "           Slate ID  projected_ownership    cut_odds  \n",
       "count  1.520000e+02           152.000000  152.000000  \n",
       "mean   2.252983e+07             4.087500   46.816447  \n",
       "std    3.516633e+03             5.789341   13.663033  \n",
       "min    2.252910e+07             0.100000    2.200000  \n",
       "25%    2.252914e+07             0.300000   39.525000  \n",
       "50%    2.252918e+07             1.250000   46.700000  \n",
       "75%    2.252922e+07             5.325000   56.025000  \n",
       "max    2.254883e+07            25.600000   80.700000  "
      ]
     },
     "execution_count": 4,
     "metadata": {},
     "output_type": "execute_result"
    }
   ],
   "source": [
    "# Adjust salary and points for solver use.\n",
    "salary_divisor = 100\n",
    "dk_points_multiplier = 10\n",
    "salaries = df['DK Salary'].values / salary_divisor\n",
    "salaries = [int(w) for w in salaries]\n",
    "dk_points = df['DK Points'].values\n",
    "dk_points = [int(i * dk_points_multiplier) for i in dk_points]\n",
    "ceiling = df['DK Ceiling'].values\n",
    "ceiling = [int(i * dk_points_multiplier) for i in ceiling]\n",
    "names =  df['Golfer'].to_list()\n",
    "df['projected_ownership'] = df['DK Ownership'].str.rstrip('%').astype('float') \n",
    "# Put in a minimum ownership of 0.1% for us in product ownership calculation\n",
    "df.loc[df['projected_ownership'] < 0.1, 'projected_ownership'] = 0.1\n",
    "df['cut_odds'] = df['Make Cut Odds'].str.rstrip('%').astype('float')\n",
    "df.describe()"
   ]
  },
  {
   "cell_type": "markdown",
   "metadata": {},
   "source": [
    "<a id='solver'></a>\n",
    "## 4. Solver Setup and Results"
   ]
  },
  {
   "cell_type": "code",
   "execution_count": 5,
   "metadata": {},
   "outputs": [],
   "source": [
    "model = cp_model.CpModel()"
   ]
  },
  {
   "cell_type": "code",
   "execution_count": 6,
   "metadata": {},
   "outputs": [],
   "source": [
    "# Load data in dictionary for the solver.\n",
    "data = {}\n",
    "data['ownership'] = df['projected_ownership'].values\n",
    "data['weights'] = salaries\n",
    "data['values'] = dk_points \n",
    "data['points'] = dk_points\n",
    "data['ceiling'] = ceiling\n",
    "data['sigma'] = df['Volatility'].values\n",
    "data['num_items'] = len(data['weights'])\n",
    "data['all_items'] = range(data['num_items'])\n",
    "data['cut_odds'] = df['cut_odds'].values\n",
    "data['names'] = names\n",
    "data['max_weight'] = 500\n",
    "data['max_items'] = 6"
   ]
  },
  {
   "cell_type": "code",
   "execution_count": 7,
   "metadata": {},
   "outputs": [],
   "source": [
    "# 0/1 variable to show which item is included in the roster.\n",
    "x = {}\n",
    "for i in data['all_items']:\n",
    "    x[i] = model.NewBoolVar(f'x_{i}')"
   ]
  },
  {
   "cell_type": "code",
   "execution_count": 8,
   "metadata": {},
   "outputs": [
    {
     "data": {
      "text/plain": [
       "<ortools.sat.python.cp_model.Constraint at 0x11b453700>"
      ]
     },
     "execution_count": 8,
     "metadata": {},
     "output_type": "execute_result"
    }
   ],
   "source": [
    "# Constraints\n",
    "# Constrain to roster of 6 spots.\n",
    "model.Add(sum(x[i] for i in data['all_items']) == data['max_items'])\n",
    "# Constrain to max salary <= 50000\n",
    "model.Add(sum([x[i] * data['weights'][i] for i in data['all_items']]) <= data['max_weight'])"
   ]
  },
  {
   "cell_type": "code",
   "execution_count": 9,
   "metadata": {},
   "outputs": [],
   "source": [
    "objective = []\n",
    "for i in data['all_items']:\n",
    "    objective.append(cp_model.LinearExpr.Term(x[i], data['values'][i]))\n",
    "model.Maximize(cp_model.LinearExpr.Sum(objective))"
   ]
  },
  {
   "cell_type": "code",
   "execution_count": 10,
   "metadata": {},
   "outputs": [],
   "source": [
    "solver = cp_model.CpSolver()\n",
    "status = solver.Solve(model)"
   ]
  },
  {
   "cell_type": "code",
   "execution_count": 11,
   "metadata": {},
   "outputs": [
    {
     "name": "stdout",
     "output_type": "stream",
     "text": [
      "Total DK points: 457.70\n",
      "Justin Thomas        salary: 10600 points: 91.1 ownership:  24.2 cut odds: 79.3\n",
      "Xander Schauffele    salary:  9700 points: 85.0 ownership:  18.4 cut odds: 75.2\n",
      "Aaron Wise           salary:  8100 points: 74.9 ownership:  18.2 cut odds: 64.7\n",
      "Si Woo Kim           salary:  7800 points: 73.2 ownership:  12.4 cut odds: 63.8\n",
      "Matthew Nesmith      salary:  7300 points: 69.5 ownership:   9.1 cut odds: 61.1\n",
      "Adam Schenk          salary:  6500 points: 64.0 ownership:   4.7 cut odds: 54.8\n",
      "Total Salary: 50000\n",
      "Projected Product Ownership: 4297991\n",
      "Probablity Estimate All 6 To Make Cut: 0.0824\n",
      "\n",
      "\n"
     ]
    }
   ],
   "source": [
    "# Results of solver.\n",
    "if status == cp_model.OPTIMAL:\n",
    "    print(f'Total DK points: {(solver.ObjectiveValue() / dk_points_multiplier):.2f}')\n",
    "    total_weight = 0\n",
    "    product_ownership = 1\n",
    "    estimate_cut_odds = 1\n",
    "    for i in data['all_items']:\n",
    "        if solver.Value(x[i]) > 0:\n",
    "            player_salary = data['weights'][i] * salary_divisor\n",
    "            points = data['values'][i] / dk_points_multiplier\n",
    "            print(\n",
    "                f\"{data['names'][i]:20} salary: {player_salary:5} points: {points:.1f} ownership: {data['ownership'][i]:5} cut odds: {data['cut_odds'][i]}\"\n",
    "            )\n",
    "            total_weight += player_salary\n",
    "            product_ownership *= data['ownership'][i]\n",
    "            estimate_cut_odds *= (data['cut_odds'][i] / 100)\n",
    "\n",
    "    print(f'Total Salary: {total_weight}')\n",
    "    print(f'Projected Product Ownership: {product_ownership:.0f}')\n",
    "    print(f'Probablity Estimate All 6 To Make Cut: {estimate_cut_odds:.4f}')\n",
    "    print('\\n')\n",
    "else:\n",
    "    print('The problem does not have an optimal solution.')"
   ]
  }
 ],
 "metadata": {
  "interpreter": {
   "hash": "9a0d78985e0d98d7d8ead75549cfead2932f0f56cc6b85a79de30257aafc9b25"
  },
  "kernelspec": {
   "display_name": "Python 3 (ipykernel)",
   "language": "python",
   "name": "python3"
  },
  "language_info": {
   "codemirror_mode": {
    "name": "ipython",
    "version": 3
   },
   "file_extension": ".py",
   "mimetype": "text/x-python",
   "name": "python",
   "nbconvert_exporter": "python",
   "pygments_lexer": "ipython3",
   "version": "3.8.13"
  }
 },
 "nbformat": 4,
 "nbformat_minor": 2
}
